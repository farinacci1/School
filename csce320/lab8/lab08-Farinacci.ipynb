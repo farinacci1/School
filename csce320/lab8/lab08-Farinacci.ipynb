{
 "cells": [
  {
   "cell_type": "markdown",
   "metadata": {},
   "source": [
    "# Lab 8: Correlation, Variance of Sample Means\n",
    "\n",
    "Welcome to Lab 8!\n",
    "\n",
    "In today's lab, we will learn about [the variance of sample means](https://www.inferentialthinking.com/chapters/14/5/variability-of-the-sample-mean.html) as well as ways to understand and quantify [the association between two variables](https://www.inferentialthinking.com/chapters/15/1/correlation.html).\n"
   ]
  },
  {
   "cell_type": "code",
   "execution_count": 1,
   "metadata": {},
   "outputs": [],
   "source": [
    "# Run this cell, but please don't change it.\n",
    "\n",
    "# These lines import the Numpy and Datascience modules.\n",
    "import numpy as np\n",
    "from datascience import *\n",
    "\n",
    "# These lines do some fancy plotting magic.\n",
    "import matplotlib\n",
    "%matplotlib inline\n",
    "import matplotlib.pyplot as plots\n",
    "plots.style.use('fivethirtyeight')\n",
    "import warnings\n",
    "warnings.simplefilter('ignore', FutureWarning)"
   ]
  },
  {
   "cell_type": "markdown",
   "metadata": {},
   "source": [
    "# 1. How Faithful is Old Faithful? \n",
    "\n",
    "(Note: clever title comes from [here](http://web.pdx.edu/~jfreder/M212/oldfaithful.pdf).)\n",
    "\n",
    "Old Faithful is a geyser in Yellowstone National Park in the central United States.  It's famous for erupting on a fairly regular schedule.  You can see a video below."
   ]
  },
  {
   "cell_type": "code",
   "execution_count": 2,
   "metadata": {},
   "outputs": [
    {
     "data": {
      "image/jpeg": "[encoded data removed]",
      "text/html": [
       "\n",
       "        <iframe\n",
       "            width=\"400\"\n",
       "            height=\"300\"\n",
       "            src=\"https://www.youtube.com/embed/wE8NDuzt8eg\"\n",
       "            frameborder=\"0\"\n",
       "            allowfullscreen\n",
       "        ></iframe>\n",
       "        "
      ],
      "text/plain": [
       "<IPython.lib.display.YouTubeVideo at 0x219ccc66ac8>"
      ]
     },
     "execution_count": 2,
     "metadata": {},
     "output_type": "execute_result"
    }
   ],
   "source": [
    "# For the curious: this is how to display a YouTube video in a\n",
    "# Jupyter notebook.  The argument to YouTubeVideo is the part\n",
    "# of the URL (called a \"query parameter\") that identifies the\n",
    "# video.  For example, the full URL for this video is:\n",
    "#   https://www.youtube.com/watch?v=wE8NDuzt8eg\n",
    "from IPython.display import YouTubeVideo\n",
    "YouTubeVideo(\"wE8NDuzt8eg\")"
   ]
  },
  {
   "cell_type": "markdown",
   "metadata": {},
   "source": [
    "Some of Old Faithful's eruptions last longer than others.  When it has a long eruption, there's generally a longer wait until the next eruption.\n",
    "\n",
    "If you visit Yellowstone, you might want to predict when the next eruption will happen, so you can see the rest of the park and come to see the geyser when it happens.  Today, we will use a dataset on eruption durations and waiting times to see if we can make such predictions accurately with linear regression.\n",
    "\n",
    "The dataset has one row for each observed eruption.  It includes the following columns:\n",
    "- **duration**: Eruption duration, in minutes.\n",
    "- **wait**: Time between this eruption and the next, also in minutes.\n",
    "\n",
    "Run the next cell to load the dataset."
   ]
  },
  {
   "cell_type": "code",
   "execution_count": 3,
   "metadata": {},
   "outputs": [
    {
     "data": {
      "text/html": [
       "<table border=\"1\" class=\"dataframe\">\n",
       "    <thead>\n",
       "        <tr>\n",
       "            <th>duration</th> <th>wait</th>\n",
       "        </tr>\n",
       "    </thead>\n",
       "    <tbody>\n",
       "        <tr>\n",
       "            <td>3.6     </td> <td>79  </td>\n",
       "        </tr>\n",
       "        <tr>\n",
       "            <td>1.8     </td> <td>54  </td>\n",
       "        </tr>\n",
       "        <tr>\n",
       "            <td>3.333   </td> <td>74  </td>\n",
       "        </tr>\n",
       "        <tr>\n",
       "            <td>2.283   </td> <td>62  </td>\n",
       "        </tr>\n",
       "        <tr>\n",
       "            <td>4.533   </td> <td>85  </td>\n",
       "        </tr>\n",
       "        <tr>\n",
       "            <td>2.883   </td> <td>55  </td>\n",
       "        </tr>\n",
       "        <tr>\n",
       "            <td>4.7     </td> <td>88  </td>\n",
       "        </tr>\n",
       "        <tr>\n",
       "            <td>3.6     </td> <td>85  </td>\n",
       "        </tr>\n",
       "        <tr>\n",
       "            <td>1.95    </td> <td>51  </td>\n",
       "        </tr>\n",
       "        <tr>\n",
       "            <td>4.35    </td> <td>85  </td>\n",
       "        </tr>\n",
       "    </tbody>\n",
       "</table>\n",
       "<p>... (262 rows omitted)</p>"
      ],
      "text/plain": [
       "duration | wait\n",
       "3.6      | 79\n",
       "1.8      | 54\n",
       "3.333    | 74\n",
       "2.283    | 62\n",
       "4.533    | 85\n",
       "2.883    | 55\n",
       "4.7      | 88\n",
       "3.6      | 85\n",
       "1.95     | 51\n",
       "4.35     | 85\n",
       "... (262 rows omitted)"
      ]
     },
     "execution_count": 3,
     "metadata": {},
     "output_type": "execute_result"
    }
   ],
   "source": [
    "faithful = Table.read_table(\"faithful.csv\")\n",
    "faithful"
   ]
  },
  {
   "cell_type": "markdown",
   "metadata": {},
   "source": [
    "We would like to use linear regression to make predictions, but that won't work well if the data aren't roughly linearly related.  To check that, we should look at the data."
   ]
  },
  {
   "cell_type": "markdown",
   "metadata": {},
   "source": [
    "#### Question 1\n",
    "Make a scatter plot of the data.  It's conventional to put the column we will try to predict on the vertical axis and the other column on the horizontal axis."
   ]
  },
  {
   "cell_type": "code",
   "execution_count": 5,
   "metadata": {
    "deletable": false
   },
   "outputs": [
    {
     "data": {
      "image/png": "[encoded data removed]",
      "text/plain": [
       "<Figure size 360x360 with 1 Axes>"
      ]
     },
     "metadata": {},
     "output_type": "display_data"
    }
   ],
   "source": [
    "faithful.scatter('duration')"
   ]
  },
  {
   "cell_type": "markdown",
   "metadata": {},
   "source": [
    "#### Question 2\n",
    "Look at the scatter plot. Are eruption duration and waiting time roughly linearly related?  Is the relationship positive, as we claimed earlier?  You may want to consult this [section](https://www.inferentialthinking.com/chapters/15/prediction.html) of the textbook for the definition of a linear association."
   ]
  },
  {
   "cell_type": "markdown",
   "metadata": {
    "deletable": false,
    "manual_problem_id": "eruptions_linear"
   },
   "source": [
    "Yes"
   ]
  },
  {
   "cell_type": "markdown",
   "metadata": {},
   "source": [
    "We're going to continue with the provisional assumption that they are linearly related, so it's reasonable to use linear regression to analyze this data.\n",
    "\n",
    "We'd next like to plot the data in standard units.  Recall that, if `nums` is an array of numbers, then\n",
    "\n",
    "    (nums - np.mean(nums)) / np.std(nums)\n",
    "\n",
    "is an array of those numbers in standard units."
   ]
  },
  {
   "cell_type": "markdown",
   "metadata": {},
   "source": [
    "#### Question 3\n",
    "Compute the mean and standard deviation of the eruption durations and waiting times.  **Then**, create a table called `faithful_standard` containing the eruption durations and waiting times in standard units.  (The columns should be named `\"duration (standard units)\"` and `\"wait (standard units)\"`."
   ]
  },
  {
   "cell_type": "code",
   "execution_count": 6,
   "metadata": {
    "deletable": false,
    "for_assignment_type": "student"
   },
   "outputs": [
    {
     "data": {
      "text/html": [
       "<table border=\"1\" class=\"dataframe\">\n",
       "    <thead>\n",
       "        <tr>\n",
       "            <th>duration (standard units)</th> <th>wait (standard units)</th>\n",
       "        </tr>\n",
       "    </thead>\n",
       "    <tbody>\n",
       "        <tr>\n",
       "            <td>0.0984989                </td> <td>0.597123             </td>\n",
       "        </tr>\n",
       "        <tr>\n",
       "            <td>-1.48146                 </td> <td>-1.24518             </td>\n",
       "        </tr>\n",
       "        <tr>\n",
       "            <td>-0.135861                </td> <td>0.228663             </td>\n",
       "        </tr>\n",
       "        <tr>\n",
       "            <td>-1.0575                  </td> <td>-0.655644            </td>\n",
       "        </tr>\n",
       "        <tr>\n",
       "            <td>0.917443                 </td> <td>1.03928              </td>\n",
       "        </tr>\n",
       "        <tr>\n",
       "            <td>-0.530851                </td> <td>-1.17149             </td>\n",
       "        </tr>\n",
       "        <tr>\n",
       "            <td>1.06403                  </td> <td>1.26035              </td>\n",
       "        </tr>\n",
       "        <tr>\n",
       "            <td>0.0984989                </td> <td>1.03928              </td>\n",
       "        </tr>\n",
       "        <tr>\n",
       "            <td>-1.3498                  </td> <td>-1.46626             </td>\n",
       "        </tr>\n",
       "        <tr>\n",
       "            <td>0.756814                 </td> <td>1.03928              </td>\n",
       "        </tr>\n",
       "    </tbody>\n",
       "</table>\n",
       "<p>... (262 rows omitted)</p>"
      ],
      "text/plain": [
       "duration (standard units) | wait (standard units)\n",
       "0.0984989                 | 0.597123\n",
       "-1.48146                  | -1.24518\n",
       "-0.135861                 | 0.228663\n",
       "-1.0575                   | -0.655644\n",
       "0.917443                  | 1.03928\n",
       "-0.530851                 | -1.17149\n",
       "1.06403                   | 1.26035\n",
       "0.0984989                 | 1.03928\n",
       "-1.3498                   | -1.46626\n",
       "0.756814                  | 1.03928\n",
       "... (262 rows omitted)"
      ]
     },
     "execution_count": 6,
     "metadata": {},
     "output_type": "execute_result"
    }
   ],
   "source": [
    "duration_mean = np.mean(faithful['duration'])\n",
    "duration_std = np.std(faithful['duration'])\n",
    "wait_mean = np.mean(faithful['wait'])\n",
    "wait_std = np.std(faithful['wait'])\n",
    "\n",
    "faithful_standard = Table().with_columns(\n",
    "    \"duration (standard units)\", (faithful['duration'] - duration_mean)/duration_std,\n",
    "    \"wait (standard units)\", (faithful['wait'] - wait_mean)/wait_std)\n",
    "faithful_standard"
   ]
  },
  {
   "cell_type": "markdown",
   "metadata": {},
   "source": [
    "#### Question 4\n",
    "Plot the data again, but this time in standard units."
   ]
  },
  {
   "cell_type": "code",
   "execution_count": 7,
   "metadata": {
    "deletable": false
   },
   "outputs": [
    {
     "data": {
      "image/png": "[encoded data removed]",
      "text/plain": [
       "<Figure size 360x360 with 1 Axes>"
      ]
     },
     "metadata": {},
     "output_type": "display_data"
    }
   ],
   "source": [
    "faithful_standard.scatter('duration (standard units)')"
   ]
  },
  {
   "cell_type": "markdown",
   "metadata": {},
   "source": [
    "You'll notice that this plot looks exactly the same as the last one!  The data really are different, but the axes are scaled differently.  (The method `scatter` scales the axes so the data fill up the available space.)  So it's important to read the ticks on the axes."
   ]
  },
  {
   "cell_type": "markdown",
   "metadata": {},
   "source": [
    "#### Question 5\n",
    "Among the following numbers, which would you guess is closest to the correlation between eruption duration and waiting time in this dataset?\n",
    "\n",
    "* -1\n",
    "* 0\n",
    "* 1"
   ]
  },
  {
   "cell_type": "markdown",
   "metadata": {
    "deletable": false,
    "manual_problem_id": "correlation_magnitude"
   },
   "source": [
    "*Write your answer here, replacing this text.*"
   ]
  },
  {
   "cell_type": "markdown",
   "metadata": {},
   "source": [
    "#### Question 6\n",
    "Compute the correlation `r`.  *Hint:* Use `faithful_standard`.  This [section](https://www.inferentialthinking.com/chapters/15/1/correlation.html) on correlation explains how to do this."
   ]
  },
  {
   "cell_type": "code",
   "execution_count": 8,
   "metadata": {
    "deletable": false
   },
   "outputs": [
    {
     "data": {
      "text/plain": [
       "0.9008111683218132"
      ]
     },
     "execution_count": 8,
     "metadata": {},
     "output_type": "execute_result"
    }
   ],
   "source": [
    "r = np.mean(faithful_standard['duration (standard units)'] *faithful_standard['wait (standard units)'])\n",
    "r"
   ]
  },
  {
   "cell_type": "markdown",
   "metadata": {},
   "source": [
    "# 2. Variability of the Sample Mean\n",
    "\n",
    "By the Central Limit Theorem, the probability distribution of the mean of a large random sample is roughly normal. The bell curve is centered at the population mean. Some of the sample means are higher and some are lower, but the deviations from the population mean are roughly symmetric on either side, as we have seen repeatedly. Formally, probability theory shows that the sample mean is an unbiased estimate of the population mean.\n",
    "\n",
    "In our simulations, we also noticed that the means of larger samples tend to be more tightly clustered around the population mean than means of smaller samples. In this section, we will quantify the variability of the sample mean and develop a relation between the variability and the sample size.\n",
    "\n",
    "Let's take a look at the salaries of employees of the City of San Francisco in 2014. The mean salary reported by the city government was about $75463.92."
   ]
  },
  {
   "cell_type": "code",
   "execution_count": 9,
   "metadata": {},
   "outputs": [
    {
     "data": {
      "text/html": [
       "<table border=\"1\" class=\"dataframe\">\n",
       "    <thead>\n",
       "        <tr>\n",
       "            <th>salary</th>\n",
       "        </tr>\n",
       "    </thead>\n",
       "    <tbody>\n",
       "        <tr>\n",
       "            <td>471953</td>\n",
       "        </tr>\n",
       "        <tr>\n",
       "            <td>390112</td>\n",
       "        </tr>\n",
       "        <tr>\n",
       "            <td>339654</td>\n",
       "        </tr>\n",
       "        <tr>\n",
       "            <td>326717</td>\n",
       "        </tr>\n",
       "        <tr>\n",
       "            <td>326233</td>\n",
       "        </tr>\n",
       "        <tr>\n",
       "            <td>344187</td>\n",
       "        </tr>\n",
       "        <tr>\n",
       "            <td>311299</td>\n",
       "        </tr>\n",
       "        <tr>\n",
       "            <td>310161</td>\n",
       "        </tr>\n",
       "        <tr>\n",
       "            <td>335485</td>\n",
       "        </tr>\n",
       "        <tr>\n",
       "            <td>329391</td>\n",
       "        </tr>\n",
       "    </tbody>\n",
       "</table>\n",
       "<p>... (38113 rows omitted)</p>"
      ],
      "text/plain": [
       "salary\n",
       "471953\n",
       "390112\n",
       "339654\n",
       "326717\n",
       "326233\n",
       "344187\n",
       "311299\n",
       "310161\n",
       "335485\n",
       "329391\n",
       "... (38113 rows omitted)"
      ]
     },
     "execution_count": 9,
     "metadata": {},
     "output_type": "execute_result"
    }
   ],
   "source": [
    "salaries = Table.read_table('sf_salaries_2014.csv').select(\"salary\")\n",
    "salaries"
   ]
  },
  {
   "cell_type": "code",
   "execution_count": 10,
   "metadata": {},
   "outputs": [
    {
     "data": {
      "text/plain": [
       "75463.91814023031"
      ]
     },
     "execution_count": 10,
     "metadata": {},
     "output_type": "execute_result"
    }
   ],
   "source": [
    "salary_mean = np.mean(salaries.column('salary'))\n",
    "salary_mean"
   ]
  },
  {
   "cell_type": "code",
   "execution_count": 11,
   "metadata": {},
   "outputs": [
    {
     "data": {
      "image/png": "[encoded data removed]",
      "text/plain": [
       "<Figure size 432x288 with 1 Axes>"
      ]
     },
     "metadata": {},
     "output_type": "display_data"
    }
   ],
   "source": [
    "salaries.hist('salary', bins=np.arange(0, 300000+10000*2, 10000))\n",
    "plots.scatter(salary_mean, 0, marker='^', color='red', s=100);"
   ]
  },
  {
   "cell_type": "markdown",
   "metadata": {},
   "source": [
    "#### Question 1\n",
    "\n",
    "Clearly, the population does not follow a normal distribution. Keep that in mind as we progress through these exercises.\n",
    "\n",
    "Let's take random samples and look at the probability distribution of the sample mean. As usual, we will use simulation to get an empirical approximation to this distribution.\n",
    "\n",
    "We will define a function `simulate_sample_mean` to do this, because we are going to vary the sample size later. The arguments are the name of the table, the label of the column containing the variable, the sample size, and the number of simulations."
   ]
  },
  {
   "cell_type": "code",
   "execution_count": 19,
   "metadata": {
    "deletable": false
   },
   "outputs": [],
   "source": [
    "\"\"\"Empirical distribution of random sample means\"\"\"\n",
    "\n",
    "def simulate_sample_mean(table, label, sample_size, repetitions):\n",
    "    \n",
    "    means = make_array()\n",
    "\n",
    "    for i in np.arange(repetitions):\n",
    "        new_sample = table.sample(sample_size,with_replacement=False)\n",
    "        new_sample_mean = np.mean(new_sample.column('salary'))\n",
    "        means = np.append(means,new_sample_mean)\n",
    "\n",
    "    sample_means = Table().with_column('Sample Means', means)\n",
    "    \n",
    "    # Display empirical histogram and print all relevant quantities – don't change this!\n",
    "    sample_means.hist(bins=20)\n",
    "    plots.xlabel('Sample Means')\n",
    "    plots.title('Sample Size ' + str(sample_size))\n",
    "    print(\"Sample size: \", sample_size)\n",
    "    print(\"Population mean:\", np.mean(table.column(label)))\n",
    "    print(\"Average of sample means: \", np.mean(means))\n",
    "    print(\"Population SD:\", np.std(table.column(label)))\n",
    "    print(\"SD of sample means:\", np.std(means))"
   ]
  },
  {
   "cell_type": "markdown",
   "metadata": {},
   "source": [
    "Verify with your neighbor or TA that you've implemented the above function correctly. If you haven't implemented it correctly, the rest of the lab won't work properly, so this step is crucial."
   ]
  },
  {
   "cell_type": "markdown",
   "metadata": {},
   "source": [
    "#### Question 2\n",
    "\n",
    "In the following cell, we will create a sample of size 100 from the salaries table and graph it using our new `simulate_sample_mean` function."
   ]
  },
  {
   "cell_type": "code",
   "execution_count": 20,
   "metadata": {},
   "outputs": [
    {
     "name": "stdout",
     "output_type": "stream",
     "text": [
      "Sample size:  100\n",
      "Population mean: 75463.91814023031\n",
      "Average of sample means:  75425.34311194\n",
      "Population SD: 51697.0349864653\n",
      "SD of sample means: 5161.81738366416\n"
     ]
    },
    {
     "data": {
      "text/plain": [
       "(50000, 100000)"
      ]
     },
     "execution_count": 20,
     "metadata": {},
     "output_type": "execute_result"
    },
    {
     "data": {
      "image/png": "[encoded data removed]",
      "text/plain": [
       "<Figure size 432x288 with 1 Axes>"
      ]
     },
     "metadata": {},
     "output_type": "display_data"
    }
   ],
   "source": [
    "simulate_sample_mean(salaries, 'salary', 100, 10000) \n",
    "plots.xlim(50000, 100000)"
   ]
  },
  {
   "cell_type": "markdown",
   "metadata": {},
   "source": [
    "In the following two cells, simulate the mean of a random sample of 400 salaries and 625 salaries, respectively. In each case, perform 10,000 repetitions of each of these processes. Don't worry about the `plots.xlim` line – it just makes sure that all of the plots have the same x-axis. "
   ]
  },
  {
   "cell_type": "code",
   "execution_count": 21,
   "metadata": {
    "deletable": false,
    "for_assignment_type": "student"
   },
   "outputs": [
    {
     "name": "stdout",
     "output_type": "stream",
     "text": [
      "Sample size:  400\n",
      "Population mean: 75463.91814023031\n",
      "Average of sample means:  75451.7876824275\n",
      "Population SD: 51697.0349864653\n",
      "SD of sample means: 2533.7581400380473\n"
     ]
    },
    {
     "data": {
      "text/plain": [
       "(50000, 100000)"
      ]
     },
     "execution_count": 21,
     "metadata": {},
     "output_type": "execute_result"
    },
    {
     "data": {
      "image/png": "[encoded data removed]",
      "text/plain": [
       "<Figure size 432x288 with 1 Axes>"
      ]
     },
     "metadata": {},
     "output_type": "display_data"
    }
   ],
   "source": [
    "simulate_sample_mean(salaries, 'salary', 400, 10000)\n",
    "plots.xlim(50000, 100000)"
   ]
  },
  {
   "cell_type": "code",
   "execution_count": 22,
   "metadata": {
    "deletable": false,
    "for_assignment_type": "student"
   },
   "outputs": [
    {
     "name": "stdout",
     "output_type": "stream",
     "text": [
      "Sample size:  625\n",
      "Population mean: 75463.91814023031\n",
      "Average of sample means:  75463.7365837232\n",
      "Population SD: 51697.0349864653\n",
      "SD of sample means: 2070.7968265915033\n"
     ]
    },
    {
     "data": {
      "text/plain": [
       "(50000, 100000)"
      ]
     },
     "execution_count": 22,
     "metadata": {},
     "output_type": "execute_result"
    },
    {
     "data": {
      "image/png": "[encoded data removed]",
      "text/plain": [
       "<Figure size 432x288 with 1 Axes>"
      ]
     },
     "metadata": {},
     "output_type": "display_data"
    }
   ],
   "source": [
    "simulate_sample_mean(salaries, 'salary', 625, 10000)\n",
    "plots.xlim(50000, 100000)"
   ]
  },
  {
   "cell_type": "markdown",
   "metadata": {},
   "source": [
    "Write your conclusions about what you just saw in the below cell."
   ]
  },
  {
   "cell_type": "markdown",
   "metadata": {
    "deletable": false,
    "for_assignment_type": "student"
   },
   "source": [
    "**Conclusions:** "
   ]
  },
  {
   "cell_type": "markdown",
   "metadata": {},
   "source": [
    "#### Question 3"
   ]
  },
  {
   "cell_type": "markdown",
   "metadata": {},
   "source": [
    "Assign the variable `bootstrap_sampled_SD` to the integer corresponding to your answer to the following question:\n",
    "\n",
    "When I increase the number of bootstrap samples that I take, for a fixed sample size, the SD of my sample mean will...\n",
    "\n",
    "1. Increase\n",
    "2. Decrease\n",
    "3. Stay about the same\n",
    "4. Vary widly"
   ]
  },
  {
   "cell_type": "code",
   "execution_count": null,
   "metadata": {
    "collapsed": true,
    "deletable": false
   },
   "outputs": [],
   "source": [
    "bootstrap_sampled_SD = ..."
   ]
  },
  {
   "cell_type": "markdown",
   "metadata": {},
   "source": [
    "Below, we'll look at what happens when we take a fixed sample, then bootstrap from it with different numbers of resamples. How does the distribution of the resampled means change?"
   ]
  },
  {
   "cell_type": "code",
   "execution_count": null,
   "metadata": {
    "collapsed": true
   },
   "outputs": [],
   "source": [
    "simulate_sample_mean(salaries, 'salary', 100, 500)\n",
    "plots.xlim(50000, 100000)"
   ]
  },
  {
   "cell_type": "code",
   "execution_count": null,
   "metadata": {
    "collapsed": true
   },
   "outputs": [],
   "source": [
    "simulate_sample_mean(salaries, 'salary', 100, 1000)\n",
    "plots.xlim(50000, 100000)"
   ]
  },
  {
   "cell_type": "code",
   "execution_count": null,
   "metadata": {
    "collapsed": true
   },
   "outputs": [],
   "source": [
    "simulate_sample_mean(salaries, 'salary', 100, 5000)\n",
    "plots.xlim(50000, 100000)"
   ]
  },
  {
   "cell_type": "code",
   "execution_count": null,
   "metadata": {
    "collapsed": true
   },
   "outputs": [],
   "source": [
    "simulate_sample_mean(salaries, 'salary', 100, 10000)\n",
    "plots.xlim(50000, 100000)"
   ]
  },
  {
   "cell_type": "markdown",
   "metadata": {},
   "source": [
    "What did you notice about the sample means of the four bootstrapped samples above? Discuss with your neighbors. If you're unsure of your conclusion, ask your instructor."
   ]
  },
  {
   "cell_type": "markdown",
   "metadata": {},
   "source": [
    "#### Question 4\n",
    "Let's think about how the relationships between population SD, sample SD, and SD of sample means change with varying sample size. Which of the following is true? Again, assign the variable `pop_vs_sample` to the integer corresponding to your answer.\n",
    "\n",
    "1. Sample SD gets smaller with increasing sample size, SD of sample means gets smaller with increasing sample size\n",
    "2. Sample SD gets larger with increasing sample size, SD of sample means stays the same with increasing sample size\n",
    "3. Sample SD becomes more consistent with population SD with increasing sample size, SD of sample means gets smaller with increasing sample size\n",
    "4. Sample SD becomes more consistent with populatoin SD with increasing sample size, SD of smaple means stays the same with increasing sample size"
   ]
  },
  {
   "cell_type": "code",
   "execution_count": null,
   "metadata": {
    "collapsed": true,
    "deletable": false
   },
   "outputs": [],
   "source": [
    "pop_vs_sample = ..."
   ]
  },
  {
   "cell_type": "markdown",
   "metadata": {},
   "source": [
    "Let's see what happens: First, we calculate the population SD so that we can compare the SD of each sample to the SD of the population."
   ]
  },
  {
   "cell_type": "code",
   "execution_count": null,
   "metadata": {
    "collapsed": true
   },
   "outputs": [],
   "source": [
    "pop_sd = np.std(salaries.column(\"salary\"))\n",
    "pop_sd"
   ]
  },
  {
   "cell_type": "markdown",
   "metadata": {},
   "source": [
    "Let's then how a small sample behaves. Run the following cells multiple times to see how the SD of the sample changes from sample to sample. Adjust the bins as necessary."
   ]
  },
  {
   "cell_type": "code",
   "execution_count": null,
   "metadata": {
    "collapsed": true
   },
   "outputs": [],
   "source": [
    "sample_10 = salaries.sample(10)\n",
    "sample_10.hist(\"salary\")\n",
    "print(\"Sample SD: \", np.std(sample_10.column(\"salary\")))\n",
    "simulate_sample_mean(sample_10, 'salary', 10, 1000)\n",
    "plots.xlim(5,120000)\n",
    "plots.ylim(0, .0001);"
   ]
  },
  {
   "cell_type": "code",
   "execution_count": null,
   "metadata": {
    "collapsed": true
   },
   "outputs": [],
   "source": [
    "sample_200 = salaries.sample(200)\n",
    "sample_200.hist(\"salary\")\n",
    "print(\"Sample SD: \", np.std(sample_200.column(\"salary\")))\n",
    "simulate_sample_mean(sample_200, 'salary', 200, 1000)\n",
    "plots.xlim(5,100000)\n",
    "plots.ylim(0, .00015);"
   ]
  },
  {
   "cell_type": "code",
   "execution_count": null,
   "metadata": {
    "collapsed": true
   },
   "outputs": [],
   "source": [
    "sample_1000 = salaries.sample(1000)\n",
    "sample_1000.hist(\"salary\")\n",
    "print(\"Sample SD: \", np.std(sample_1000.column(\"salary\")))\n",
    "simulate_sample_mean(sample_1000, 'salary', 1000, 1000)\n",
    "plots.xlim(5,100000)\n",
    "plots.ylim(0, .00025);"
   ]
  },
  {
   "cell_type": "markdown",
   "metadata": {},
   "source": [
    "Let's illustrate this trend. Below, you will see how the average absolute error of SD from the population changes with sample size (N)."
   ]
  },
  {
   "cell_type": "code",
   "execution_count": null,
   "metadata": {
    "collapsed": true
   },
   "outputs": [],
   "source": [
    "# Don't change this cell, just run it!\n",
    "sample_n_errors = make_array()\n",
    "for i in np.arange(10, 200, 10):\n",
    "    sample_n_errors = np.append(sample_n_errors, np.average([abs(np.std(salaries.sample(i).column(\"salary\"))-pop_sd)\n",
    "                                                      for d in np.arange(100)]))\n",
    "Table().with_column(\"Average absolute error in SD\", sample_n_errors, \"N\", np.arange(10, 200, 10)).plot(\"N\", \"Average absolute error in SD\")"
   ]
  },
  {
   "cell_type": "markdown",
   "metadata": {},
   "source": [
    "You should notice that the distribution of means gets spiker, and that the distribution of the sample increasingly looks like the distribution of the population as we get to larger sample sizes. \n",
    "\n",
    "Is there a relationship between the sample size and absolute error in standard deviation? Identify this relationship – if you're having trouble, take a look at this [section](https://www.inferentialthinking.com/chapters/12/5/variability-of-the-sample-mean.html) in our textbook about the variability of sample means."
   ]
  },
  {
   "cell_type": "markdown",
   "metadata": {},
   "source": [
    "That's it! You've completed Lab 8. Be sure to \n",
    "- **Save and Checkpoint** from the `File` menu.\n",
    "- **Halt and Close** from the `File` menu. \n",
    "- **Rename your ipynb file**, replacing LASTNAMES with your last names, or the last names of your group, separated by a hyphen,\n",
    "- **Upload** your file to the course website."
   ]
  },
  {
   "cell_type": "code",
   "execution_count": null,
   "metadata": {},
   "outputs": [],
   "source": []
  }
 ],
 "metadata": {
  "anaconda-cloud": {},
  "celltoolbar": "Edit Metadata",
  "kernelspec": {
   "display_name": "Python 3",
   "language": "python",
   "name": "python3"
  },
  "language_info": {
   "codemirror_mode": {
    "name": "ipython",
    "version": 3
   },
   "file_extension": ".py",
   "mimetype": "text/x-python",
   "name": "python",
   "nbconvert_exporter": "python",
   "pygments_lexer": "ipython3",
   "version": "3.7.3"
  }
 },
 "nbformat": 4,
 "nbformat_minor": 1
}
